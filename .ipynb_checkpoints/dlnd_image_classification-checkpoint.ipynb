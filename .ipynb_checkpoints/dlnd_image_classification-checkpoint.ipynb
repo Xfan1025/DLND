{
 "cells": [
  {
   "cell_type": "markdown",
   "metadata": {
    "collapsed": true
   },
   "source": [
    "# Image Classification\n",
    "This project is to classify images from the [CIFAR-10 dataset](https://www.cs.toronto.edu/~kriz/cifar.html).  The dataset consists of 10 classes: airplanes, dogs, cats, and other objects. We'll first preprocess the images, then train a convolutional neural network on all the samples. The images need to be normalized and the labels need to be one-hot encoded. Max pooling and dropout techniques will be used in the convolutional layers to improve the efficiency.\n",
    "## Get the Data\n",
    "Run the following cell to download the [CIFAR-10 dataset for python](https://www.cs.toronto.edu/~kriz/cifar-10-python.tar.gz)."
   ]
  },
  {
   "cell_type": "code",
   "execution_count": 1,
   "metadata": {},
   "outputs": [
    {
     "name": "stdout",
     "output_type": "stream",
     "text": [
      "All files found!\n"
     ]
    }
   ],
   "source": [
    "from urllib.request import urlretrieve\n",
    "from os.path import isfile, isdir\n",
    "from tqdm import tqdm\n",
    "import problem_unittests as tests\n",
    "import tarfile\n",
    "\n",
    "cifar10_dataset_folder_path = 'cifar-10-batches-py'\n",
    "\n",
    "# Use Floyd's cifar-10 dataset if present\n",
    "floyd_cifar10_location = '/input/cifar-10/python.tar.gz'\n",
    "if isfile(floyd_cifar10_location):\n",
    "    tar_gz_path = floyd_cifar10_location\n",
    "else:\n",
    "    tar_gz_path = 'cifar-10-python.tar.gz'\n",
    "\n",
    "class DLProgress(tqdm):\n",
    "    last_block = 0\n",
    "\n",
    "    def hook(self, block_num=1, block_size=1, total_size=None):\n",
    "        self.total = total_size\n",
    "        self.update((block_num - self.last_block) * block_size)\n",
    "        self.last_block = block_num\n",
    "\n",
    "if not isfile(tar_gz_path):\n",
    "    with DLProgress(unit='B', unit_scale=True, miniters=1, desc='CIFAR-10 Dataset') as pbar:\n",
    "        urlretrieve(\n",
    "            'https://www.cs.toronto.edu/~kriz/cifar-10-python.tar.gz',\n",
    "            tar_gz_path,\n",
    "            pbar.hook)\n",
    "\n",
    "if not isdir(cifar10_dataset_folder_path):\n",
    "    with tarfile.open(tar_gz_path) as tar:\n",
    "        tar.extractall()\n",
    "        tar.close()\n",
    "\n",
    "\n",
    "tests.test_folder_path(cifar10_dataset_folder_path)"
   ]
  },
  {
   "cell_type": "markdown",
   "metadata": {},
   "source": [
    "## Explore the Data\n",
    "The dataset is broken into batches to prevent your machine from running out of memory.  The CIFAR-10 dataset consists of 5 batches, named `data_batch_1`, `data_batch_2`, etc.. Each batch contains the labels and images that are one of the following:\n",
    "* airplane\n",
    "* automobile\n",
    "* bird\n",
    "* cat\n",
    "* deer\n",
    "* dog\n",
    "* frog\n",
    "* horse\n",
    "* ship\n",
    "* truck\n",
    "\n",
    "Understanding a dataset is part of making predictions on the data.  Play around with the code cell below by changing the `batch_id` and `sample_id`. The `batch_id` is the id for a batch (1-5). The `sample_id` is the id for a image and label pair in the batch.\n",
    "\n"
   ]
  },
  {
   "cell_type": "code",
   "execution_count": 2,
   "metadata": {},
   "outputs": [
    {
     "name": "stdout",
     "output_type": "stream",
     "text": [
      "\n",
      "Stats of batch 2:\n",
      "Samples: 10000\n",
      "Label Counts: {0: 984, 1: 1007, 2: 1010, 3: 995, 4: 1010, 5: 988, 6: 1008, 7: 1026, 8: 987, 9: 985}\n",
      "First 20 Labels: [1, 6, 6, 8, 8, 3, 4, 6, 0, 6, 0, 3, 6, 6, 5, 4, 8, 3, 2, 6]\n",
      "\n",
      "Example of Image 6:\n",
      "Image - Min Value: 0 Max Value: 235\n",
      "Image - Shape: (32, 32, 3)\n",
      "Label - Label Id: 4 Name: deer\n"
     ]
    },
    {
     "data": {
      "image/png": "[encoded data removed]",
      "text/plain": [
       "<matplotlib.figure.Figure at 0x7f06c08f6e80>"
      ]
     },
     "metadata": {
      "image/png": {
       "height": 250,
       "width": 253
      }
     },
     "output_type": "display_data"
    }
   ],
   "source": [
    "%matplotlib inline\n",
    "%config InlineBackend.figure_format = 'retina'\n",
    "\n",
    "import helper\n",
    "import numpy as np\n",
    "\n",
    "# Explore the dataset\n",
    "batch_id = 2\n",
    "sample_id = 6\n",
    "helper.display_stats(cifar10_dataset_folder_path, batch_id, sample_id)"
   ]
  },
  {
   "cell_type": "markdown",
   "metadata": {},
   "source": [
    "## Implement Preprocess Functions\n",
    "### Normalize\n",
    "In the cell below, implement the `normalize` function to take in image data, `x`, and return it as a normalized Numpy array. The values should be in the range of 0 to 1, inclusive.  The return object should be the same shape as `x`."
   ]
  },
  {
   "cell_type": "code",
   "execution_count": 3,
   "metadata": {},
   "outputs": [
    {
     "name": "stdout",
     "output_type": "stream",
     "text": [
      "Tests Passed\n"
     ]
    }
   ],
   "source": [
    "def normalize(x):\n",
    "    \"\"\"\n",
    "    Normalize a list of sample image data in the range of 0 to 1\n",
    "    : x: List of image data.  The image shape is (32, 32, 3)\n",
    "    : return: Numpy array of normalize data\n",
    "    \"\"\"\n",
    "    return np.array(x / 255)\n",
    "\n",
    "\n",
    "\n",
    "tests.test_normalize(normalize)"
   ]
  },
  {
   "cell_type": "markdown",
   "metadata": {},
   "source": [
    "### One-hot encode\n",
    "Just like the previous code cell, we'll be implementing a function for preprocessing.  This time, we'll implement the `one_hot_encode` function. The input, `x`, are a list of labels.  Implement the function to return the list of labels as One-Hot encoded Numpy array.  The possible values for labels are 0 to 9. The one-hot encoding function should return the same encoding for each value between each call to `one_hot_encode`.  \n"
   ]
  },
  {
   "cell_type": "code",
   "execution_count": 4,
   "metadata": {},
   "outputs": [
    {
     "name": "stdout",
     "output_type": "stream",
     "text": [
      "Tests Passed\n"
     ]
    }
   ],
   "source": [
    "def one_hot_encode(x):\n",
    "    \"\"\"\n",
    "    One hot encode a list of sample labels. Return a one-hot encoded vector for each label.\n",
    "    : x: List of sample Labels\n",
    "    : return: Numpy array of one-hot encoded labels\n",
    "    \"\"\"\n",
    "    \n",
    "    return np.eye(10)[x]\n",
    "\n",
    "\n",
    "\n",
    "tests.test_one_hot_encode(one_hot_encode)"
   ]
  },
  {
   "cell_type": "markdown",
   "metadata": {},
   "source": [
    "## Preprocess all the data and save it\n",
    "Running the code cell below will preprocess all the CIFAR-10 data and save it to file. The code below also uses 10% of the training data for validation."
   ]
  },
  {
   "cell_type": "code",
   "execution_count": 5,
   "metadata": {
    "collapsed": true
   },
   "outputs": [],
   "source": [
    "# Preprocess Training, Validation, and Testing Data\n",
    "helper.preprocess_and_save_data(cifar10_dataset_folder_path, normalize, one_hot_encode)"
   ]
  },
  {
   "cell_type": "markdown",
   "metadata": {},
   "source": [
    "# Check Point\n",
    "This is our first checkpoint.  If you ever decide to come back to this notebook or have to restart the notebook, you can start from here.  The preprocessed data has been saved to disk."
   ]
  },
  {
   "cell_type": "code",
   "execution_count": 6,
   "metadata": {
    "collapsed": true
   },
   "outputs": [],
   "source": [
    "import pickle\n",
    "import problem_unittests as tests\n",
    "import helper\n",
    "\n",
    "# Load the Preprocessed Validation data\n",
    "valid_features, valid_labels = pickle.load(open('preprocess_validation.p', mode='rb'))"
   ]
  },
  {
   "cell_type": "markdown",
   "metadata": {},
   "source": [
    "## Build the network\n"
   ]
  },
  {
   "cell_type": "code",
   "execution_count": 7,
   "metadata": {},
   "outputs": [
    {
     "name": "stdout",
     "output_type": "stream",
     "text": [
      "Image Input Tests Passed.\n",
      "Label Input Tests Passed.\n",
      "Keep Prob Tests Passed.\n"
     ]
    }
   ],
   "source": [
    "import tensorflow as tf\n",
    "\n",
    "def neural_net_image_input(image_shape):\n",
    "    \"\"\"\n",
    "    Return a Tensor for a bach of image input\n",
    "    : image_shape: Shape of the images\n",
    "    : return: Tensor for image input.\n",
    "    \"\"\"\n",
    "    \n",
    "    return tf.placeholder(tf.float32, shape = [None, image_shape[0], image_shape[1], image_shape[2]], name = 'x')\n",
    "\n",
    "\n",
    "def neural_net_label_input(n_classes):\n",
    "    \"\"\"\n",
    "    Return a Tensor for a batch of label input\n",
    "    : n_classes: Number of classes\n",
    "    : return: Tensor for label input.\n",
    "    \"\"\"\n",
    "    \n",
    "    return tf.placeholder(tf.float32, shape = [None, n_classes], name = 'y')\n",
    "\n",
    "\n",
    "def neural_net_keep_prob_input():\n",
    "    \"\"\"\n",
    "    Return a Tensor for keep probability\n",
    "    : return: Tensor for keep probability.\n",
    "    \"\"\"\n",
    "    \n",
    "    return tf.placeholder(tf.float32, name = 'keep_prob')\n",
    "\n",
    "\n",
    "\n",
    "tf.reset_default_graph()\n",
    "tests.test_nn_image_inputs(neural_net_image_input)\n",
    "tests.test_nn_label_inputs(neural_net_label_input)\n",
    "tests.test_nn_keep_prob_inputs(neural_net_keep_prob_input)"
   ]
  },
  {
   "cell_type": "markdown",
   "metadata": {},
   "source": [
    "### Convolution and Max Pooling Layer\n"
   ]
  },
  {
   "cell_type": "code",
   "execution_count": 8,
   "metadata": {},
   "outputs": [
    {
     "name": "stdout",
     "output_type": "stream",
     "text": [
      "Tests Passed\n"
     ]
    }
   ],
   "source": [
    "def conv2d_maxpool(x_tensor, conv_num_outputs, conv_ksize, conv_strides, pool_ksize, pool_strides):\n",
    "    \"\"\"\n",
    "    Apply convolution then max pooling to x_tensor\n",
    "    :param x_tensor: TensorFlow Tensor\n",
    "    :param conv_num_outputs: Number of outputs for the convolutional layer\n",
    "    :param conv_ksize: kernal size 2-D Tuple for the convolutional layer\n",
    "    :param conv_strides: Stride 2-D Tuple for convolution\n",
    "    :param pool_ksize: kernal size 2-D Tuple for pool\n",
    "    :param pool_strides: Stride 2-D Tuple for pool\n",
    "    : return: A tensor that represents convolution and max pooling of x_tensor\n",
    "    \"\"\"\n",
    "    # Create the weight and bias using conv_ksize, conv_num_outputs and the shape of x_tensor.\n",
    "    \n",
    "    weight = tf.Variable(tf.truncated_normal([conv_ksize[1], conv_ksize[0], int(x_tensor.shape[3]), conv_num_outputs], stddev=0.1))\n",
    "    \n",
    "    bias = tf.Variable(tf.zeros(conv_num_outputs))\n",
    "    \n",
    "          ## param always height first then width ##\n",
    "        \n",
    "    # Apply a convolution to x_tensor using weight and conv_strides. using same padding\n",
    "    conv2d = tf.nn.conv2d(x_tensor, weight, strides = [1, conv_strides[1], conv_strides[0], 1], padding = 'SAME')\n",
    "    \n",
    "    # add bias\n",
    "    conv2d = tf.nn.bias_add(conv2d, bias)\n",
    "    \n",
    "    # apply activation \n",
    "    conv2d = tf.nn.relu(conv2d)\n",
    "    \n",
    "    # apply max pooling\n",
    "    conv2d = tf.nn.max_pool(conv2d,\n",
    "                            ksize = [1, pool_ksize[1], pool_ksize[0], 1],\n",
    "                            strides = [1, pool_strides[1], pool_strides[0], 1],\n",
    "                            padding = 'SAME')\n",
    "    \n",
    "    return conv2d \n",
    "\n",
    "\n",
    "tests.test_con_pool(conv2d_maxpool)"
   ]
  },
  {
   "cell_type": "markdown",
   "metadata": {},
   "source": [
    "### Flatten Layer\n"
   ]
  },
  {
   "cell_type": "code",
   "execution_count": null,
   "metadata": {
    "collapsed": true
   },
   "outputs": [],
   "source": [
    "def flatten(x_tensor):\n",
    "    \"\"\"\n",
    "    Flatten x_tensor to (Batch Size, Flattened Image Size)\n",
    "    : x_tensor: A tensor of size (Batch Size, ...), where ... are the image dimensions.\n",
    "    : return: A tensor of size (Batch Size, Flattened Image Size).\n",
    "    \"\"\"\n",
    "\n",
    "    return tf.contrib.layers.flatten(x_tensor, outputs_collections=None, scope=None)\n",
    " \n",
    "tests.test_flatten(flatten)"
   ]
  },
  {
   "cell_type": "markdown",
   "metadata": {},
   "source": [
    "### Fully-Connected Layer\n"
   ]
  },
  {
   "cell_type": "code",
   "execution_count": 10,
   "metadata": {},
   "outputs": [
    {
     "name": "stdout",
     "output_type": "stream",
     "text": [
      "Tests Passed\n"
     ]
    }
   ],
   "source": [
    "def fully_conn(x_tensor, num_outputs):\n",
    "    \"\"\"\n",
    "    Apply a fully connected layer to x_tensor using weight and bias\n",
    "    : x_tensor: A 2-D tensor where the first dimension is batch size.\n",
    "    : num_outputs: The number of output that the new tensor should be.\n",
    "    : return: A 2-D tensor where the second dimension is num_outputs.\n",
    "    \"\"\"\n",
    "    weight = tf.Variable(tf.truncated_normal([int(x_tensor.shape[1]), num_outputs]))\n",
    "    bias = tf.Variable(tf.zeros(num_outputs))\n",
    "    return tf.nn.elu(tf.add(tf.matmul(x_tensor, weight), bias))\n",
    "\n",
    "tests.test_fully_conn(fully_conn)"
   ]
  },
  {
   "cell_type": "markdown",
   "metadata": {},
   "source": [
    "### Output Layer\n"
   ]
  },
  {
   "cell_type": "code",
   "execution_count": 11,
   "metadata": {},
   "outputs": [
    {
     "name": "stdout",
     "output_type": "stream",
     "text": [
      "Tests Passed\n"
     ]
    }
   ],
   "source": [
    "def output(x_tensor, num_outputs):\n",
    "    \"\"\"\n",
    "    Apply a output layer to x_tensor using weight and bias\n",
    "    : x_tensor: A 2-D tensor where the first dimension is batch size.\n",
    "    : num_outputs: The number of output that the new tensor should be.\n",
    "    : return: A 2-D tensor where the second dimension is num_outputs.\n",
    "    \"\"\"\n",
    "    \n",
    "    # since the fully_conn now is a nonlinear function, it cannot be reused. need new implementation for the output\n",
    "    \n",
    "    # new linear implementation\n",
    "    weight = tf.Variable(tf.truncated_normal([int(x_tensor.shape[1]), num_outputs], stddev=0.1))\n",
    "    bias = tf.Variable(tf.zeros(num_outputs))    \n",
    "    return tf.add(tf.matmul(x_tensor, weight), bias)\n",
    "\n",
    "tests.test_output(output)"
   ]
  },
  {
   "cell_type": "markdown",
   "metadata": {},
   "source": [
    "### Create Convolutional Model\n",
    "Implement the function `conv_net` to create a convolutional neural network model. The function takes in a batch of images, `x`, and outputs logits.  Use the layers we created above to create this model:\n",
    "\n",
    "* Apply 1, 2, or 3 Convolution and Max Pool layers\n",
    "* Apply a Flatten Layer\n",
    "* Apply 1, 2, or 3 Fully Connected Layers\n",
    "* Apply an Output Layer\n",
    "* Return the output\n",
    "* Apply [TensorFlow's Dropout](https://www.tensorflow.org/api_docs/python/tf/nn/dropout) to one or more layers in the model using `keep_prob`. "
   ]
  },
  {
   "cell_type": "code",
   "execution_count": 12,
   "metadata": {
    "scrolled": true
   },
   "outputs": [
    {
     "name": "stdout",
     "output_type": "stream",
     "text": [
      "Neural Network Built!\n"
     ]
    }
   ],
   "source": [
    "def conv_net(x, keep_prob):\n",
    "    \"\"\"\n",
    "    Create a convolutional neural network model\n",
    "    : x: Placeholder tensor that holds image data.\n",
    "    : keep_prob: Placeholder tensor that hold dropout keep probability.\n",
    "    : return: Tensor that represents logits\n",
    "    \"\"\"\n",
    "\n",
    "    # Function Definition from Above:\n",
    "    #    conv2d_maxpool(x_tensor, conv_num_outputs, conv_ksize, conv_strides, pool_ksize, pool_strides)\n",
    "    \n",
    "    conv_layer_1 = conv2d_maxpool(x, 32, (3, 3), (1, 1), (2, 2), (2, 2))\n",
    "\n",
    "    conv_layer_2 = conv2d_maxpool(conv_layer_1, 64, (3, 3), (1, 1), (2, 2), (2, 2))\n",
    "    \n",
    "    conv_layer_3 = conv2d_maxpool(conv_layer_2, 128, (3, 3), (1, 1), (2, 2), (2, 2))\n",
    "    \n",
    "    # Apply a Flatten Layer\n",
    "    flattened_layer = flatten(conv_layer_3)\n",
    "    \n",
    "    # Apply 1, 2, or 3 Fully Connected Layers\n",
    "    fully_conn_layer = fully_conn(flattened_layer, 256)\n",
    "    fully_conn_layer = fully_conn(flattened_layer, 512)\n",
    "    fully_conn_layer = fully_conn(flattened_layer, 512)\n",
    "\n",
    "    \n",
    "    # apply dropout\n",
    "    fully_conn_layer = tf.nn.dropout(fully_conn_layer, keep_prob)\n",
    "    \n",
    "\n",
    "    outputlayer = output(fully_conn_layer, 10)\n",
    "    \n",
    "    return outputlayer\n",
    "\n",
    "\n",
    "\n",
    "\n",
    "##############################\n",
    "## Build the Neural Network ##\n",
    "##############################\n",
    "\n",
    "# Remove previous weights, bias, inputs, etc..\n",
    "tf.reset_default_graph()\n",
    "\n",
    "# Inputs\n",
    "x = neural_net_image_input((32, 32, 3))\n",
    "y = neural_net_label_input(10)\n",
    "keep_prob = neural_net_keep_prob_input()\n",
    "\n",
    "# Model\n",
    "logits = conv_net(x, keep_prob)\n",
    "\n",
    "# Name logits Tensor, so that is can be loaded from disk after training\n",
    "logits = tf.identity(logits, name='logits')\n",
    "\n",
    "# Loss and Optimizer\n",
    "cost = tf.reduce_mean(tf.nn.softmax_cross_entropy_with_logits(logits=logits, labels=y))\n",
    "optimizer = tf.train.AdamOptimizer().minimize(cost)\n",
    "\n",
    "# Accuracy\n",
    "correct_pred = tf.equal(tf.argmax(logits, 1), tf.argmax(y, 1))\n",
    "accuracy = tf.reduce_mean(tf.cast(correct_pred, tf.float32), name='accuracy')\n",
    "\n",
    "tests.test_conv_net(conv_net)"
   ]
  },
  {
   "cell_type": "markdown",
   "metadata": {},
   "source": [
    "## Train the Neural Network\n",
    "### Single Optimization\n",
    "Implement the function `train_neural_network` to do a single optimization.  The optimization should use `optimizer` to optimize in `session` with a `feed_dict` of the following:\n",
    "* `x` for image input\n",
    "* `y` for labels\n",
    "* `keep_prob` for keep probability for dropout\n",
    "\n",
    "This function will be called for each batch, so `tf.global_variables_initializer()` has already been called.\n",
    "\n",
    "Note: Nothing needs to be returned. This function is only optimizing the neural network."
   ]
  },
  {
   "cell_type": "code",
   "execution_count": 13,
   "metadata": {},
   "outputs": [
    {
     "name": "stdout",
     "output_type": "stream",
     "text": [
      "Tests Passed\n"
     ]
    }
   ],
   "source": [
    "def train_neural_network(session, optimizer, keep_probability, feature_batch, label_batch):\n",
    "    \"\"\"\n",
    "    Optimize the session on a batch of images and labels\n",
    "    : session: Current TensorFlow session\n",
    "    : optimizer: TensorFlow optimizer function\n",
    "    : keep_probability: keep probability\n",
    "    : feature_batch: Batch of Numpy image data\n",
    "    : label_batch: Batch of Numpy label data\n",
    "    \"\"\"\n",
    "\n",
    "    session.run(optimizer, feed_dict = {keep_prob: keep_probability, x: feature_batch, y: label_batch})\n",
    "\n",
    "\n",
    "tests.test_train_nn(train_neural_network)"
   ]
  },
  {
   "cell_type": "markdown",
   "metadata": {},
   "source": [
    "### Show Stats\n",
    "Implement the function `print_stats` to print loss and validation accuracy.  Use the global variables `valid_features` and `valid_labels` to calculate validation accuracy.  Use a keep probability of `1.0` to calculate the loss and validation accuracy."
   ]
  },
  {
   "cell_type": "code",
   "execution_count": 14,
   "metadata": {
    "collapsed": true
   },
   "outputs": [],
   "source": [
    "def print_stats(session, feature_batch, label_batch, cost, accuracy):\n",
    "    \"\"\"\n",
    "    Print information about loss and validation accuracy\n",
    "    : session: Current TensorFlow session\n",
    "    : feature_batch: Batch of Numpy image data\n",
    "    : label_batch: Batch of Numpy label data\n",
    "    : cost: TensorFlow cost function\n",
    "    : accuracy: TensorFlow accuracy function\n",
    "    \"\"\"\n",
    "    loss = session.run(cost, feed_dict = {x: feature_batch, y: label_batch, keep_prob: 1.0})\n",
    "    valid_acc = session.run(accuracy, feed_dict = {x: valid_features, y: valid_labels, keep_prob: 1.0})\n",
    "    \n",
    "    print('Loss: {:>10.4f} Validation Accuracy: {:.6f}'.format(loss, valid_acc))"
   ]
  },
  {
   "cell_type": "markdown",
   "metadata": {},
   "source": [
    "### Hyperparameters\n",
    "Tune the following parameters:\n",
    "* Set `epochs` to the number of iterations until the network stops learning or start overfitting\n",
    "* Set `batch_size` to the highest number that your machine has memory for.  Most people set them to common sizes of memory:\n",
    " * 64\n",
    " * 128\n",
    " * 256\n",
    " * ...\n",
    "* Set `keep_probability` to the probability of keeping a node using dropout"
   ]
  },
  {
   "cell_type": "code",
   "execution_count": 2,
   "metadata": {
    "collapsed": true
   },
   "outputs": [],
   "source": [
    "epochs = 20\n",
    "batch_size = 256\n",
    "keep_probability = 0.5"
   ]
  },
  {
   "cell_type": "markdown",
   "metadata": {},
   "source": [
    "### Train on a Single CIFAR-10 Batch\n",
    "Instead of training the neural network on all the CIFAR-10 batches of data, let's use a single batch. This should save time while you iterate on the model to get a better accuracy.  Once the final validation accuracy is 50% or greater, run the model on all the data in the next section."
   ]
  },
  {
   "cell_type": "code",
   "execution_count": 16,
   "metadata": {},
   "outputs": [
    {
     "name": "stdout",
     "output_type": "stream",
     "text": [
      "Checking the Training on a Single Batch...\n",
      "Epoch  1, CIFAR-10 Batch 1:  Loss:     2.0556 Validation Accuracy: 0.209400\n",
      "Epoch  2, CIFAR-10 Batch 1:  Loss:     1.8503 Validation Accuracy: 0.305800\n",
      "Epoch  3, CIFAR-10 Batch 1:  Loss:     1.6573 Validation Accuracy: 0.342600\n",
      "Epoch  4, CIFAR-10 Batch 1:  Loss:     1.5084 Validation Accuracy: 0.365400\n",
      "Epoch  5, CIFAR-10 Batch 1:  Loss:     1.3484 Validation Accuracy: 0.396800\n",
      "Epoch  6, CIFAR-10 Batch 1:  Loss:     1.2577 Validation Accuracy: 0.420400\n",
      "Epoch  7, CIFAR-10 Batch 1:  Loss:     1.1594 Validation Accuracy: 0.429200\n",
      "Epoch  8, CIFAR-10 Batch 1:  Loss:     1.0750 Validation Accuracy: 0.445200\n",
      "Epoch  9, CIFAR-10 Batch 1:  Loss:     0.9839 Validation Accuracy: 0.456200\n",
      "Epoch 10, CIFAR-10 Batch 1:  Loss:     0.8877 Validation Accuracy: 0.472400\n",
      "Epoch 11, CIFAR-10 Batch 1:  Loss:     0.8040 Validation Accuracy: 0.481000\n",
      "Epoch 12, CIFAR-10 Batch 1:  Loss:     0.7651 Validation Accuracy: 0.488400\n",
      "Epoch 13, CIFAR-10 Batch 1:  Loss:     0.6563 Validation Accuracy: 0.506800\n",
      "Epoch 14, CIFAR-10 Batch 1:  Loss:     0.6090 Validation Accuracy: 0.513200\n",
      "Epoch 15, CIFAR-10 Batch 1:  Loss:     0.5694 Validation Accuracy: 0.518600\n",
      "Epoch 16, CIFAR-10 Batch 1:  Loss:     0.5234 Validation Accuracy: 0.522400\n",
      "Epoch 17, CIFAR-10 Batch 1:  Loss:     0.4415 Validation Accuracy: 0.543000\n",
      "Epoch 18, CIFAR-10 Batch 1:  Loss:     0.3950 Validation Accuracy: 0.536200\n",
      "Epoch 19, CIFAR-10 Batch 1:  Loss:     0.3570 Validation Accuracy: 0.544200\n",
      "Epoch 20, CIFAR-10 Batch 1:  Loss:     0.3494 Validation Accuracy: 0.528800\n"
     ]
    }
   ],
   "source": [
    "print('Checking the Training on a Single Batch...')\n",
    "with tf.Session() as sess:\n",
    "    # Initializing the variables\n",
    "    sess.run(tf.global_variables_initializer())\n",
    "    \n",
    "    # Training cycle\n",
    "    for epoch in range(epochs):\n",
    "        batch_i = 1\n",
    "        for batch_features, batch_labels in helper.load_preprocess_training_batch(batch_i, batch_size):\n",
    "            train_neural_network(sess, optimizer, keep_probability, batch_features, batch_labels)\n",
    "        print('Epoch {:>2}, CIFAR-10 Batch {}:  '.format(epoch + 1, batch_i), end='')\n",
    "        print_stats(sess, batch_features, batch_labels, cost, accuracy)"
   ]
  },
  {
   "cell_type": "markdown",
   "metadata": {},
   "source": [
    "### Fully Train the Model\n",
    "Now that we got a good accuracy with a single CIFAR-10 batch, try it with all five batches."
   ]
  },
  {
   "cell_type": "code",
   "execution_count": 17,
   "metadata": {},
   "outputs": [
    {
     "name": "stdout",
     "output_type": "stream",
     "text": [
      "Training...\n",
      "Epoch  1, CIFAR-10 Batch 1:  Loss:     2.2332 Validation Accuracy: 0.231800\n",
      "Epoch  1, CIFAR-10 Batch 2:  Loss:     1.8858 Validation Accuracy: 0.309200\n",
      "Epoch  1, CIFAR-10 Batch 3:  Loss:     1.8257 Validation Accuracy: 0.354000\n",
      "Epoch  1, CIFAR-10 Batch 4:  Loss:     1.6862 Validation Accuracy: 0.381200\n",
      "Epoch  1, CIFAR-10 Batch 5:  Loss:     1.7621 Validation Accuracy: 0.417600\n",
      "Epoch  2, CIFAR-10 Batch 1:  Loss:     1.6044 Validation Accuracy: 0.426400\n",
      "Epoch  2, CIFAR-10 Batch 2:  Loss:     1.4352 Validation Accuracy: 0.450600\n",
      "Epoch  2, CIFAR-10 Batch 3:  Loss:     1.2566 Validation Accuracy: 0.465200\n",
      "Epoch  2, CIFAR-10 Batch 4:  Loss:     1.3330 Validation Accuracy: 0.477200\n",
      "Epoch  2, CIFAR-10 Batch 5:  Loss:     1.4324 Validation Accuracy: 0.480000\n",
      "Epoch  3, CIFAR-10 Batch 1:  Loss:     1.3268 Validation Accuracy: 0.479400\n",
      "Epoch  3, CIFAR-10 Batch 2:  Loss:     1.1833 Validation Accuracy: 0.502200\n",
      "Epoch  3, CIFAR-10 Batch 3:  Loss:     1.0262 Validation Accuracy: 0.499200\n",
      "Epoch  3, CIFAR-10 Batch 4:  Loss:     1.1188 Validation Accuracy: 0.515800\n",
      "Epoch  3, CIFAR-10 Batch 5:  Loss:     1.2556 Validation Accuracy: 0.507400\n",
      "Epoch  4, CIFAR-10 Batch 1:  Loss:     1.1465 Validation Accuracy: 0.537600\n",
      "Epoch  4, CIFAR-10 Batch 2:  Loss:     1.1003 Validation Accuracy: 0.523600\n",
      "Epoch  4, CIFAR-10 Batch 3:  Loss:     0.9131 Validation Accuracy: 0.542800\n",
      "Epoch  4, CIFAR-10 Batch 4:  Loss:     0.9358 Validation Accuracy: 0.549400\n",
      "Epoch  4, CIFAR-10 Batch 5:  Loss:     1.1689 Validation Accuracy: 0.549400\n",
      "Epoch  5, CIFAR-10 Batch 1:  Loss:     0.9977 Validation Accuracy: 0.559200\n",
      "Epoch  5, CIFAR-10 Batch 2:  Loss:     1.0224 Validation Accuracy: 0.545000\n",
      "Epoch  5, CIFAR-10 Batch 3:  Loss:     0.7385 Validation Accuracy: 0.577000\n",
      "Epoch  5, CIFAR-10 Batch 4:  Loss:     0.7959 Validation Accuracy: 0.582800\n",
      "Epoch  5, CIFAR-10 Batch 5:  Loss:     1.0131 Validation Accuracy: 0.565800\n",
      "Epoch  6, CIFAR-10 Batch 1:  Loss:     0.9023 Validation Accuracy: 0.597800\n",
      "Epoch  6, CIFAR-10 Batch 2:  Loss:     0.8436 Validation Accuracy: 0.569400\n",
      "Epoch  6, CIFAR-10 Batch 3:  Loss:     0.6702 Validation Accuracy: 0.590600\n",
      "Epoch  6, CIFAR-10 Batch 4:  Loss:     0.7585 Validation Accuracy: 0.606000\n",
      "Epoch  6, CIFAR-10 Batch 5:  Loss:     0.8659 Validation Accuracy: 0.594000\n",
      "Epoch  7, CIFAR-10 Batch 1:  Loss:     0.8169 Validation Accuracy: 0.608400\n",
      "Epoch  7, CIFAR-10 Batch 2:  Loss:     0.6993 Validation Accuracy: 0.603200\n",
      "Epoch  7, CIFAR-10 Batch 3:  Loss:     0.5232 Validation Accuracy: 0.606000\n",
      "Epoch  7, CIFAR-10 Batch 4:  Loss:     0.6453 Validation Accuracy: 0.617800\n",
      "Epoch  7, CIFAR-10 Batch 5:  Loss:     0.6675 Validation Accuracy: 0.622400\n",
      "Epoch  8, CIFAR-10 Batch 1:  Loss:     0.7043 Validation Accuracy: 0.610600\n",
      "Epoch  8, CIFAR-10 Batch 2:  Loss:     0.5501 Validation Accuracy: 0.612000\n",
      "Epoch  8, CIFAR-10 Batch 3:  Loss:     0.4561 Validation Accuracy: 0.623400\n",
      "Epoch  8, CIFAR-10 Batch 4:  Loss:     0.6462 Validation Accuracy: 0.633600\n",
      "Epoch  8, CIFAR-10 Batch 5:  Loss:     0.6112 Validation Accuracy: 0.612200\n",
      "Epoch  9, CIFAR-10 Batch 1:  Loss:     0.5919 Validation Accuracy: 0.631600\n",
      "Epoch  9, CIFAR-10 Batch 2:  Loss:     0.4960 Validation Accuracy: 0.617200\n",
      "Epoch  9, CIFAR-10 Batch 3:  Loss:     0.3480 Validation Accuracy: 0.652600\n",
      "Epoch  9, CIFAR-10 Batch 4:  Loss:     0.5747 Validation Accuracy: 0.647000\n",
      "Epoch  9, CIFAR-10 Batch 5:  Loss:     0.4913 Validation Accuracy: 0.637800\n",
      "Epoch 10, CIFAR-10 Batch 1:  Loss:     0.6063 Validation Accuracy: 0.642600\n",
      "Epoch 10, CIFAR-10 Batch 2:  Loss:     0.4109 Validation Accuracy: 0.638800\n",
      "Epoch 10, CIFAR-10 Batch 3:  Loss:     0.3547 Validation Accuracy: 0.654800\n",
      "Epoch 10, CIFAR-10 Batch 4:  Loss:     0.4702 Validation Accuracy: 0.661200\n",
      "Epoch 10, CIFAR-10 Batch 5:  Loss:     0.3736 Validation Accuracy: 0.649400\n",
      "Epoch 11, CIFAR-10 Batch 1:  Loss:     0.4797 Validation Accuracy: 0.636600\n",
      "Epoch 11, CIFAR-10 Batch 2:  Loss:     0.4433 Validation Accuracy: 0.618200\n",
      "Epoch 11, CIFAR-10 Batch 3:  Loss:     0.3011 Validation Accuracy: 0.658800\n",
      "Epoch 11, CIFAR-10 Batch 4:  Loss:     0.3949 Validation Accuracy: 0.660200\n",
      "Epoch 11, CIFAR-10 Batch 5:  Loss:     0.3395 Validation Accuracy: 0.659200\n",
      "Epoch 12, CIFAR-10 Batch 1:  Loss:     0.4560 Validation Accuracy: 0.655600\n",
      "Epoch 12, CIFAR-10 Batch 2:  Loss:     0.3079 Validation Accuracy: 0.656600\n",
      "Epoch 12, CIFAR-10 Batch 3:  Loss:     0.2810 Validation Accuracy: 0.670800\n",
      "Epoch 12, CIFAR-10 Batch 4:  Loss:     0.3326 Validation Accuracy: 0.655000\n",
      "Epoch 12, CIFAR-10 Batch 5:  Loss:     0.3331 Validation Accuracy: 0.676800\n",
      "Epoch 13, CIFAR-10 Batch 1:  Loss:     0.3904 Validation Accuracy: 0.651600\n",
      "Epoch 13, CIFAR-10 Batch 2:  Loss:     0.2924 Validation Accuracy: 0.663800\n",
      "Epoch 13, CIFAR-10 Batch 3:  Loss:     0.2489 Validation Accuracy: 0.677200\n",
      "Epoch 13, CIFAR-10 Batch 4:  Loss:     0.2996 Validation Accuracy: 0.655000\n",
      "Epoch 13, CIFAR-10 Batch 5:  Loss:     0.2689 Validation Accuracy: 0.674200\n",
      "Epoch 14, CIFAR-10 Batch 1:  Loss:     0.3529 Validation Accuracy: 0.671600\n",
      "Epoch 14, CIFAR-10 Batch 2:  Loss:     0.2534 Validation Accuracy: 0.690000\n",
      "Epoch 14, CIFAR-10 Batch 3:  Loss:     0.1826 Validation Accuracy: 0.681800\n",
      "Epoch 14, CIFAR-10 Batch 4:  Loss:     0.2608 Validation Accuracy: 0.674600\n",
      "Epoch 14, CIFAR-10 Batch 5:  Loss:     0.2499 Validation Accuracy: 0.678800\n",
      "Epoch 15, CIFAR-10 Batch 1:  Loss:     0.2834 Validation Accuracy: 0.677000\n",
      "Epoch 15, CIFAR-10 Batch 2:  Loss:     0.2275 Validation Accuracy: 0.683400\n",
      "Epoch 15, CIFAR-10 Batch 3:  Loss:     0.1546 Validation Accuracy: 0.689800\n",
      "Epoch 15, CIFAR-10 Batch 4:  Loss:     0.2581 Validation Accuracy: 0.675000\n",
      "Epoch 15, CIFAR-10 Batch 5:  Loss:     0.2079 Validation Accuracy: 0.682400\n",
      "Epoch 16, CIFAR-10 Batch 1:  Loss:     0.2329 Validation Accuracy: 0.682000\n",
      "Epoch 16, CIFAR-10 Batch 2:  Loss:     0.1909 Validation Accuracy: 0.682000\n",
      "Epoch 16, CIFAR-10 Batch 3:  Loss:     0.1421 Validation Accuracy: 0.685000\n",
      "Epoch 16, CIFAR-10 Batch 4:  Loss:     0.2487 Validation Accuracy: 0.682600\n",
      "Epoch 16, CIFAR-10 Batch 5:  Loss:     0.1811 Validation Accuracy: 0.688000\n",
      "Epoch 17, CIFAR-10 Batch 1:  Loss:     0.1999 Validation Accuracy: 0.684800\n",
      "Epoch 17, CIFAR-10 Batch 2:  Loss:     0.1801 Validation Accuracy: 0.688400\n",
      "Epoch 17, CIFAR-10 Batch 3:  Loss:     0.1257 Validation Accuracy: 0.685400\n",
      "Epoch 17, CIFAR-10 Batch 4:  Loss:     0.1836 Validation Accuracy: 0.685400\n",
      "Epoch 17, CIFAR-10 Batch 5:  Loss:     0.1804 Validation Accuracy: 0.685800\n",
      "Epoch 18, CIFAR-10 Batch 1:  Loss:     0.1743 Validation Accuracy: 0.679400\n",
      "Epoch 18, CIFAR-10 Batch 2:  Loss:     0.1401 Validation Accuracy: 0.693600\n",
      "Epoch 18, CIFAR-10 Batch 3:  Loss:     0.1017 Validation Accuracy: 0.695200\n",
      "Epoch 18, CIFAR-10 Batch 4:  Loss:     0.1831 Validation Accuracy: 0.693200\n",
      "Epoch 18, CIFAR-10 Batch 5:  Loss:     0.1525 Validation Accuracy: 0.693600\n",
      "Epoch 19, CIFAR-10 Batch 1:  Loss:     0.1567 Validation Accuracy: 0.692200\n",
      "Epoch 19, CIFAR-10 Batch 2:  Loss:     0.1226 Validation Accuracy: 0.698000\n",
      "Epoch 19, CIFAR-10 Batch 3:  Loss:     0.1401 Validation Accuracy: 0.682200\n",
      "Epoch 19, CIFAR-10 Batch 4:  Loss:     0.1490 Validation Accuracy: 0.680600\n",
      "Epoch 19, CIFAR-10 Batch 5:  Loss:     0.1281 Validation Accuracy: 0.698600\n",
      "Epoch 20, CIFAR-10 Batch 1:  Loss:     0.1523 Validation Accuracy: 0.683600\n",
      "Epoch 20, CIFAR-10 Batch 2:  Loss:     0.1193 Validation Accuracy: 0.690200\n",
      "Epoch 20, CIFAR-10 Batch 3:  Loss:     0.1163 Validation Accuracy: 0.667600\n",
      "Epoch 20, CIFAR-10 Batch 4:  Loss:     0.1323 Validation Accuracy: 0.684000\n",
      "Epoch 20, CIFAR-10 Batch 5:  Loss:     0.1176 Validation Accuracy: 0.702000\n"
     ]
    }
   ],
   "source": [
    "save_model_path = './image_classification'\n",
    "\n",
    "print('Training...')\n",
    "with tf.Session() as sess:\n",
    "    # Initializing the variables\n",
    "    sess.run(tf.global_variables_initializer())\n",
    "    \n",
    "    # Training cycle\n",
    "    for epoch in range(epochs):\n",
    "        # Loop over all batches\n",
    "        n_batches = 5\n",
    "        for batch_i in range(1, n_batches + 1):\n",
    "            for batch_features, batch_labels in helper.load_preprocess_training_batch(batch_i, batch_size):\n",
    "                train_neural_network(sess, optimizer, keep_probability, batch_features, batch_labels)\n",
    "            print('Epoch {:>2}, CIFAR-10 Batch {}:  '.format(epoch + 1, batch_i), end='')\n",
    "            print_stats(sess, batch_features, batch_labels, cost, accuracy)\n",
    "            \n",
    "    # Save Model\n",
    "    saver = tf.train.Saver()\n",
    "    save_path = saver.save(sess, save_model_path)"
   ]
  },
  {
   "cell_type": "markdown",
   "metadata": {},
   "source": [
    "# Checkpoint\n",
    "The model has been saved to disk.\n",
    "## Test Model\n",
    "Test our model against the test dataset.  This will be our final accuracy. You should have an accuracy greater than 50%. If you don't, keep tweaking the model architecture and parameters."
   ]
  },
  {
   "cell_type": "code",
   "execution_count": 18,
   "metadata": {},
   "outputs": [
    {
     "name": "stdout",
     "output_type": "stream",
     "text": [
      "INFO:tensorflow:Restoring parameters from ./image_classification\n",
      "Testing Accuracy: 0.7025390625\n",
      "\n"
     ]
    },
    {
     "data": {
      "image/png": "[encoded data removed]",
      "text/plain": [
       "<matplotlib.figure.Figure at 0x7f06ac4374e0>"
      ]
     },
     "metadata": {
      "image/png": {
       "height": 319,
       "width": 355
      }
     },
     "output_type": "display_data"
    }
   ],
   "source": [
    "%matplotlib inline\n",
    "%config InlineBackend.figure_format = 'retina'\n",
    "\n",
    "import tensorflow as tf\n",
    "import pickle\n",
    "import helper\n",
    "import random\n",
    "\n",
    "# Set batch size if not already set\n",
    "try:\n",
    "    if batch_size:\n",
    "        pass\n",
    "except NameError:\n",
    "    batch_size = 64\n",
    "\n",
    "save_model_path = './image_classification'\n",
    "n_samples = 4\n",
    "top_n_predictions = 3\n",
    "\n",
    "def test_model():\n",
    "    \"\"\"\n",
    "    Test the saved model against the test dataset\n",
    "    \"\"\"\n",
    "\n",
    "    test_features, test_labels = pickle.load(open('preprocess_training.p', mode='rb'))\n",
    "    loaded_graph = tf.Graph()\n",
    "\n",
    "    with tf.Session(graph=loaded_graph) as sess:\n",
    "        # Load model\n",
    "        loader = tf.train.import_meta_graph(save_model_path + '.meta')\n",
    "        loader.restore(sess, save_model_path)\n",
    "\n",
    "        # Get Tensors from loaded model\n",
    "        loaded_x = loaded_graph.get_tensor_by_name('x:0')\n",
    "        loaded_y = loaded_graph.get_tensor_by_name('y:0')\n",
    "        loaded_keep_prob = loaded_graph.get_tensor_by_name('keep_prob:0')\n",
    "        loaded_logits = loaded_graph.get_tensor_by_name('logits:0')\n",
    "        loaded_acc = loaded_graph.get_tensor_by_name('accuracy:0')\n",
    "        \n",
    "        # Get accuracy in batches for memory limitations\n",
    "        test_batch_acc_total = 0\n",
    "        test_batch_count = 0\n",
    "        \n",
    "        for train_feature_batch, train_label_batch in helper.batch_features_labels(test_features, test_labels, batch_size):\n",
    "            test_batch_acc_total += sess.run(\n",
    "                loaded_acc,\n",
    "                feed_dict={loaded_x: train_feature_batch, loaded_y: train_label_batch, loaded_keep_prob: 1.0})\n",
    "            test_batch_count += 1\n",
    "\n",
    "        print('Testing Accuracy: {}\\n'.format(test_batch_acc_total/test_batch_count))\n",
    "\n",
    "        # Print Random Samples\n",
    "        random_test_features, random_test_labels = tuple(zip(*random.sample(list(zip(test_features, test_labels)), n_samples)))\n",
    "        random_test_predictions = sess.run(\n",
    "            tf.nn.top_k(tf.nn.softmax(loaded_logits), top_n_predictions),\n",
    "            feed_dict={loaded_x: random_test_features, loaded_y: random_test_labels, loaded_keep_prob: 1.0})\n",
    "        helper.display_image_predictions(random_test_features, random_test_labels, random_test_predictions)\n",
    "\n",
    "\n",
    "test_model()"
   ]
  },
  {
   "cell_type": "markdown",
   "metadata": {},
   "source": [
    "## Why 50-70% Accuracy?\n",
    "Well, 50% isn't bad for a simple CNN.  Pure guessing would get us 10% accuracy. As a simple CNN, it shall be considered as a good job on classifying thoses images."
   ]
  },
  {
   "cell_type": "code",
   "execution_count": null,
   "metadata": {
    "collapsed": true
   },
   "outputs": [],
   "source": []
  }
 ],
 "metadata": {
  "kernelspec": {
   "display_name": "Python 3",
   "language": "python",
   "name": "python3"
  },
  "language_info": {
   "codemirror_mode": {
    "name": "ipython",
    "version": 3
   },
   "file_extension": ".py",
   "mimetype": "text/x-python",
   "name": "python",
   "nbconvert_exporter": "python",
   "pygments_lexer": "ipython3",
   "version": "3.6.1"
  }
 },
 "nbformat": 4,
 "nbformat_minor": 1
}
